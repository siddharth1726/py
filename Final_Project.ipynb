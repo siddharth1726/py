{
  "nbformat": 4,
  "nbformat_minor": 0,
  "metadata": {
    "colab": {
      "name": "Untitled1.ipynb",
      "provenance": [],
      "authorship_tag": "ABX9TyP6o333KqVypY67rl+7rsHQ",
      "include_colab_link": true
    },
    "kernelspec": {
      "name": "python3",
      "display_name": "Python 3"
    },
    "language_info": {
      "name": "python"
    }
  },
  "cells": [
    {
      "cell_type": "markdown",
      "metadata": {
        "id": "view-in-github",
        "colab_type": "text"
      },
      "source": [
        "<a href=\"https://colab.research.google.com/github/siddharth1726/py/blob/master/Final_Project.ipynb\" target=\"_parent\"><img src=\"https://colab.research.google.com/assets/colab-badge.svg\" alt=\"Open In Colab\"/></a>"
      ]
    },
    {
      "cell_type": "code",
      "metadata": {
        "id": "bwIswf-1HYbv"
      },
      "source": [
        "#Question 1\n",
        "# Hey you are a chemist from India and you work with degree celsius in your day to day life but due to a project your company had collaborated with a MNC company, where the chemists use degree frainite for their purposes, and to maintain collaboration consistent we want to have a easy degree conversion, \n",
        "# Please develop a python based degree converter which takes °C value and give you output of °F \n",
        "# Input - \n",
        "# °C -> 50\n",
        "# Output - \n",
        "# °F -> 122 \n",
        "# Formula for Conversion \n",
        "# ___°C × 9/5) + 32 = ___°F"
      ],
      "execution_count": 3,
      "outputs": []
    },
    {
      "cell_type": "code",
      "metadata": {
        "colab": {
          "base_uri": "https://localhost:8080/"
        },
        "id": "TpOfeNiWHmr9",
        "outputId": "af907277-5744-453e-8894-0ae7741dbc94"
      },
      "source": [
        "celcius_temp = int(input(\"Enter the temperature in Celcius : \"))\n",
        "fahrenheit_temp = (celcius_temp * 9/5) + 32\n",
        "print(\"The temperature in Fahrenheit is : \", fahrenheit_temp,u'\\N{DEGREE SIGN}F')"
      ],
      "execution_count": 23,
      "outputs": [
        {
          "output_type": "stream",
          "text": [
            "Enter the temperature in Celcius : 50\n",
            "The temperature in Fahrenheit is :  122.0 °F\n"
          ],
          "name": "stdout"
        }
      ]
    },
    {
      "cell_type": "code",
      "metadata": {
        "id": "uRn7C7DEIaXM"
      },
      "source": [
        ""
      ],
      "execution_count": null,
      "outputs": []
    }
  ]
}