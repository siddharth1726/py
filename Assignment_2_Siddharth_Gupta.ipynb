{
  "nbformat": 4,
  "nbformat_minor": 0,
  "metadata": {
    "colab": {
      "name": "Assignment-2_Siddharth_Gupta.ipynb",
      "provenance": [],
      "collapsed_sections": [],
      "authorship_tag": "ABX9TyPSHlP6HS/WE/7iLQbbNNmu",
      "include_colab_link": true
    },
    "kernelspec": {
      "name": "python3",
      "display_name": "Python 3"
    },
    "language_info": {
      "name": "python"
    }
  },
  "cells": [
    {
      "cell_type": "markdown",
      "metadata": {
        "id": "view-in-github",
        "colab_type": "text"
      },
      "source": [
        "<a href=\"https://colab.research.google.com/github/siddharth1726/py/blob/master/Assignment_2_Siddharth_Gupta.ipynb\" target=\"_parent\"><img src=\"https://colab.research.google.com/assets/colab-badge.svg\" alt=\"Open In Colab\"/></a>"
      ]
    },
    {
      "cell_type": "code",
      "metadata": {
        "colab": {
          "base_uri": "https://localhost:8080/"
        },
        "id": "1FlNLqBuIFgO",
        "outputId": "17be8ad0-30c2-4f15-8fcc-48f675dc8ab3"
      },
      "source": [
        "#NAME - SIDDHARTH GUPTA\n",
        "#CONTACT NUMBER - 9008507628\n",
        "#EMAIL ID - siddhartha1726@gmail.com\n",
        "\n",
        "#Remove all occurences of an element from a list.\n",
        "def occurence_list(my_list, rem_list):\n",
        "  for i in my_list:\n",
        "    if (i==rem_list):\n",
        "      my_list.remove(rem_list)\n",
        "  return my_list\n",
        "\n",
        "occurence_list([21, 5, 8, 52, 21, 87], 21)"
      ],
      "execution_count": null,
      "outputs": [
        {
          "output_type": "execute_result",
          "data": {
            "text/plain": [
              "[5, 8, 52, 87]"
            ]
          },
          "metadata": {
            "tags": []
          },
          "execution_count": 1
        }
      ]
    },
    {
      "cell_type": "code",
      "metadata": {
        "colab": {
          "base_uri": "https://localhost:8080/"
        },
        "id": "_aWxVNjsVmLg",
        "outputId": "32630f50-50f4-42d8-8247-fa81033dda4a"
      },
      "source": [
        "#Python program to check if that string is Pangram or not\n",
        "\n",
        "import string\n",
        "\n",
        "def is_pangram(string):\n",
        "  alphabet = \"abcdefghijklmnopqrstuvwxyz\"\n",
        "  for char in alphabet:\n",
        "    if char not in string.lower():\n",
        "      return False\n",
        "    else:\n",
        "      return True\n",
        "\n",
        "is_pangram('the quick brown fox jumps over the lazy dog')\n"
      ],
      "execution_count": null,
      "outputs": [
        {
          "output_type": "execute_result",
          "data": {
            "text/plain": [
              "True"
            ]
          },
          "metadata": {
            "tags": []
          },
          "execution_count": 2
        }
      ]
    },
    {
      "cell_type": "code",
      "metadata": {
        "colab": {
          "base_uri": "https://localhost:8080/"
        },
        "id": "wtaNgiiQWq7s",
        "outputId": "8d7a9f4e-acc0-4298-e6d2-087d7d54aa88"
      },
      "source": [
        "#Project-1 OTP Generator\n",
        "\n",
        "import random as r\n",
        "import string as s\n",
        "length = 6\n",
        "otp = ''\n",
        "character = s.ascii_letters + s.digits\n",
        "#print(character)\n",
        "for i in range(length):\n",
        "    otp = otp + r.choice(character)\n",
        "print(\"OTP Generated:\",otp)"
      ],
      "execution_count": null,
      "outputs": [
        {
          "output_type": "stream",
          "text": [
            "OTP Generated: X5RDvC\n"
          ],
          "name": "stdout"
        }
      ]
    },
    {
      "cell_type": "code",
      "metadata": {
        "id": "r0OZi4aGW0jj"
      },
      "source": [
        ""
      ],
      "execution_count": null,
      "outputs": []
    }
  ]
}